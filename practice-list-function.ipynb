{
 "cells": [
  {
   "cell_type": "markdown",
   "id": "6c9f9e43",
   "metadata": {},
   "source": [
    "# 🔧 Real-World Task 1: Filtering Even Numbers\n",
    "\n",
    "## Problem:\n",
    "You're given a list of numbers, and you want to extract only the even ones.\n",
    "\n",
    "## Step-by-step:\n",
    "Let’s write a function called get_even_numbers(numbers) that takes a list and returns a new list with only even numbers."
   ]
  },
  {
   "cell_type": "code",
   "execution_count": 15,
   "id": "24d0207d",
   "metadata": {},
   "outputs": [
    {
     "data": {
      "text/plain": [
       "'def get_even_numbers(numbers):\\n    numbers = []\\n    for num in numbers:\\n        if num/2 != 0:\\n            return None\\n        else:\\n        return numbers'"
      ]
     },
     "execution_count": 15,
     "metadata": {},
     "output_type": "execute_result"
    }
   ],
   "source": [
    "#first version\n",
    "\"\"\"def get_even_numbers(numbers):\n",
    "    numbers = []\n",
    "    for num in numbers:\n",
    "        if num/2 != 0:\n",
    "            return None\n",
    "        else:\n",
    "        return numbers\"\"\""
   ]
  },
  {
   "cell_type": "code",
   "execution_count": 16,
   "id": "8fc46bfb",
   "metadata": {},
   "outputs": [],
   "source": [
    "def get_even_numbers(numbers):\n",
    "    \n",
    "    even_numbers = []\n",
    "    \n",
    "    for num in numbers:\n",
    "        if num % 2 == 0:\n",
    "            even_numbers.append(num)\n",
    "    return even_numbers"
   ]
  },
  {
   "cell_type": "code",
   "execution_count": 17,
   "id": "41bf3655",
   "metadata": {},
   "outputs": [
    {
     "name": "stdout",
     "output_type": "stream",
     "text": [
      "[202, 404]\n"
     ]
    }
   ],
   "source": [
    "box_ids = [101, 202, 303, 404, 505]\n",
    "print(get_even_numbers(box_ids)) "
   ]
  },
  {
   "cell_type": "markdown",
   "id": "5a2ff7b4",
   "metadata": {},
   "source": [
    "### Handle Mixed Data (Filter only even integers)"
   ]
  },
  {
   "cell_type": "code",
   "execution_count": 18,
   "id": "d74a6fb9",
   "metadata": {},
   "outputs": [],
   "source": [
    "def get_even_integers(mixed_data):\n",
    "    even_numbers = []\n",
    "    for item in mixed_data:\n",
    "        if isinstance(item, int) and item % 2 == 0:\n",
    "            even_numbers.append(item)\n",
    "    return even_numbers"
   ]
  },
  {
   "cell_type": "code",
   "execution_count": 19,
   "id": "90e9ece4",
   "metadata": {},
   "outputs": [
    {
     "name": "stdout",
     "output_type": "stream",
     "text": [
      "[202, 404, 500]\n"
     ]
    }
   ],
   "source": [
    "raw_data = [101, 202, \"abc\", 404, None, 3.5, 500]\n",
    "print(get_even_integers(raw_data))"
   ]
  }
 ],
 "metadata": {
  "kernelspec": {
   "display_name": "test_env",
   "language": "python",
   "name": "python3"
  },
  "language_info": {
   "codemirror_mode": {
    "name": "ipython",
    "version": 3
   },
   "file_extension": ".py",
   "mimetype": "text/x-python",
   "name": "python",
   "nbconvert_exporter": "python",
   "pygments_lexer": "ipython3",
   "version": "3.11.3"
  }
 },
 "nbformat": 4,
 "nbformat_minor": 5
}
