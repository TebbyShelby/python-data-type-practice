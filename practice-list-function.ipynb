{
 "cells": [
  {
   "cell_type": "markdown",
   "id": "6c9f9e43",
   "metadata": {},
   "source": [
    "# 🔧 Real-World Task 1: Filtering Even Numbers\n",
    "\n",
    "## Scenario:\n",
    "Imagine you work at a warehouse and you have a list of box IDs represented as numbers. Your manager wants to send only the boxes with even-numbered IDs to a specific truck. Your task is to build a function that picks out these even IDs.\n",
    "\n",
    "## Goal:\n",
    "Write a function get_even_numbers(numbers) that:\n",
    "\n",
    "- takes a list of numbers (box IDs)\n",
    "\n",
    "- returns a new list with only the even ones"
   ]
  },
  {
   "cell_type": "code",
   "execution_count": 15,
   "id": "24d0207d",
   "metadata": {},
   "outputs": [
    {
     "data": {
      "text/plain": [
       "'def get_even_numbers(numbers):\\n    numbers = []\\n    for num in numbers:\\n        if num/2 != 0:\\n            return None\\n        else:\\n        return numbers'"
      ]
     },
     "execution_count": 15,
     "metadata": {},
     "output_type": "execute_result"
    }
   ],
   "source": [
    "#first version\n",
    "\"\"\"def get_even_numbers(numbers):\n",
    "    numbers = []\n",
    "    for num in numbers:\n",
    "        if num/2 != 0:\n",
    "            return None\n",
    "        else:\n",
    "        return numbers\"\"\""
   ]
  },
  {
   "cell_type": "code",
   "execution_count": 16,
   "id": "8fc46bfb",
   "metadata": {},
   "outputs": [],
   "source": [
    "def get_even_numbers(numbers):\n",
    "    \n",
    "    even_numbers = []\n",
    "    \n",
    "    for num in numbers:\n",
    "        if num % 2 == 0:\n",
    "            even_numbers.append(num)\n",
    "    return even_numbers"
   ]
  },
  {
   "cell_type": "code",
   "execution_count": 17,
   "id": "41bf3655",
   "metadata": {},
   "outputs": [
    {
     "name": "stdout",
     "output_type": "stream",
     "text": [
      "[202, 404]\n"
     ]
    }
   ],
   "source": [
    "box_ids = [101, 202, 303, 404, 505]\n",
    "print(get_even_numbers(box_ids)) "
   ]
  },
  {
   "cell_type": "markdown",
   "id": "5a2ff7b4",
   "metadata": {},
   "source": [
    "## Scenario:\n",
    "You're scanning product info in a warehouse. Sometimes the scanner accidentally reads weird data like strings (\"abc\") or None. You still want to pick only even integers from the list.\n",
    "\n",
    "## Goal:\n",
    "Update your function so that:\n",
    "\n",
    "- It skips non-integer values (like strings, None, floats).\n",
    "\n",
    "- Only even integers are returned."
   ]
  },
  {
   "cell_type": "code",
   "execution_count": 30,
   "id": "d74a6fb9",
   "metadata": {},
   "outputs": [],
   "source": [
    "def get_even_integers(mixed_data):\n",
    "    even_numbers = []\n",
    "    for item in mixed_data:\n",
    "        if isinstance(item, int) and item % 2 == 0:\n",
    "            even_numbers.append(item)\n",
    "    return even_numbers"
   ]
  },
  {
   "cell_type": "code",
   "execution_count": 31,
   "id": "90e9ece4",
   "metadata": {},
   "outputs": [
    {
     "name": "stdout",
     "output_type": "stream",
     "text": [
      "[202, 404, 500, 404]\n"
     ]
    }
   ],
   "source": [
    "raw_data = [101, 202, \"abc\", 404, None, 3.5, 38.0 ,500, 404]\n",
    "print(get_even_integers(raw_data))"
   ]
  },
  {
   "cell_type": "markdown",
   "id": "c4d3ef75",
   "metadata": {},
   "source": [
    "## Scenario:\n",
    "You receive raw scanned warehouse data from multiple devices. Some devices send a clean list, others send nested lists (like batches), and some IDs are stored as whole-number floats (2.0). You still want only even IDs.\n",
    "\n",
    "## Goal:\n",
    "\n",
    "Write a recursive function to flatten nested lists. Check if the item is:\n",
    "\n",
    "- an int, or a float that has .is_integer()\n",
    "\n",
    "- AND is even (% 2 == 0)"
   ]
  },
  {
   "cell_type": "code",
   "execution_count": null,
   "id": "eb2f86c1",
   "metadata": {},
   "outputs": [
    {
     "name": "stdout",
     "output_type": "stream",
     "text": [
      "[202, 404.0, 500, 2.0]\n"
     ]
    }
   ],
   "source": [
    "def flatten(data):\n",
    "    flat = []\n",
    "    for item in data:\n",
    "        if isinstance(item, list):\n",
    "            flat.extend(flatten(item))\n",
    "        else:\n",
    "            flat.append(item)\n",
    "    return flat\n",
    "\n",
    "def get_even_numbers_from_messy_data(data):\n",
    "    flat_data = flatten(data)\n",
    "    even_numbers = []\n",
    "    for item in flat_data:\n",
    "        if (isinstance(item, int) or (isinstance(item, float) and item.is_integer())) and item % 2 == 0:\n",
    "            even_numbers.append(item) \n",
    "    return even_numbers\n",
    "\n",
    "raw_data = [101, [202, \"abc\"], 404.0, None, [3.5, [500]], 2.0]\n",
    "print(get_even_numbers_from_messy_data(raw_data))"
   ]
  }
 ],
 "metadata": {
  "kernelspec": {
   "display_name": "test_env",
   "language": "python",
   "name": "python3"
  },
  "language_info": {
   "codemirror_mode": {
    "name": "ipython",
    "version": 3
   },
   "file_extension": ".py",
   "mimetype": "text/x-python",
   "name": "python",
   "nbconvert_exporter": "python",
   "pygments_lexer": "ipython3",
   "version": "3.11.3"
  }
 },
 "nbformat": 4,
 "nbformat_minor": 5
}
